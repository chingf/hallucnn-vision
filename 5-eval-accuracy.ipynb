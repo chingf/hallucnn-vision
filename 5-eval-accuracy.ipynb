{
 "cells": [
  {
   "cell_type": "code",
   "execution_count": 23,
   "metadata": {},
   "outputs": [],
   "source": [
    "import os\n",
    "import matplotlib.pyplot as plt\n",
    "import numpy as np\n",
    "import seaborn as sns\n",
    "from scipy.stats import sem\n",
    "import matplotlib.cm as cm\n",
    "import pickle\n",
    "import pandas as pd\n",
    "import h5py\n",
    "import torch"
   ]
  },
  {
   "cell_type": "markdown",
   "metadata": {},
   "source": [
    "# Global variables"
   ]
  },
  {
   "cell_type": "code",
   "execution_count": 66,
   "metadata": {},
   "outputs": [],
   "source": [
    "models = [\n",
    "    'pnet', 'pnet_phaseshuffle', 'pnet_magshuffle', 'random', 'pnet_allshuffle'\n",
    "    ]"
   ]
  },
  {
   "cell_type": "code",
   "execution_count": 4,
   "metadata": {},
   "outputs": [],
   "source": [
    "engram_dir = '/mnt/smb/locker/abbott-locker/hcnn_vision/'\n",
    "dataset_root = f'{engram_dir}imagenet/'\n",
    "ckpt_root = f'{engram_dir}checkpoints/'\n",
    "hps_root = f'{engram_dir}hyperparams/'\n",
    "activations_root = f'{engram_dir}activations/'"
   ]
  },
  {
   "cell_type": "markdown",
   "metadata": {},
   "source": [
    "# Helper functions"
   ]
  },
  {
   "cell_type": "code",
   "execution_count": 5,
   "metadata": {},
   "outputs": [],
   "source": [
    "def get_accuracy(results):\n",
    "    labels = np.array(results['labels'])\n",
    "    timesteps = []\n",
    "    accuracies = [] # p\n",
    "    delta_accuracies = [] # p - p_ff\n",
    "    \n",
    "    n_timesteps = 5\n",
    "    for i in range(labels.size):\n",
    "        label = labels[i]\n",
    "        ff_acc = None\n",
    "        for t in range(n_timesteps):\n",
    "            output = results[f'label_{t}'][i]\n",
    "            acc_t = (output == label).astype(float)\n",
    "            if t == 0:\n",
    "                ff_acc = acc_t\n",
    "            timesteps.append(t)\n",
    "            accuracies.append(acc_t)\n",
    "            delta_accuracies.append(acc_t - ff_acc)\n",
    "\n",
    "    timesteps = np.array(timesteps)\n",
    "    accuracies = np.array(accuracies)\n",
    "    delta_accuracies = np.array(delta_accuracies)\n",
    "            \n",
    "    return timesteps, accuracies, delta_accuracies"
   ]
  },
  {
   "cell_type": "code",
   "execution_count": 59,
   "metadata": {},
   "outputs": [],
   "source": [
    "def get_data(model):\n",
    "    data = {}\n",
    "    data['Accuracy'] = [] # p\n",
    "    data['$\\Delta$ Accuracy'] = [] # p - p_ff for each bg, snr\n",
    "    data['Timesteps'] = []\n",
    "    data['Noise Level'] = []\n",
    "    data['BG'] = []\n",
    "    data['ID'] = []\n",
    "\n",
    "    for noise_dir in os.listdir(f'{activations_root}{model}'):\n",
    "        if '_lvl_' not in noise_dir: continue\n",
    "        bg, noise_level = noise_dir.split('_lvl_')\n",
    "        activ_dir = f'{activations_root}{model}/{noise_dir}/'\n",
    "        for results_file in os.listdir(activ_dir):\n",
    "            results_filepath = f'{activ_dir}{results_file}'\n",
    "            try:\n",
    "                results = h5py.File(results_filepath, 'r')\n",
    "            except:\n",
    "                print(results_filepath)\n",
    "                traceback.print_exc()\n",
    "                continue\n",
    "            timesteps, accs, delta_accs = get_accuracy(results)\n",
    "\n",
    "            # Collect accuracy results by labels\n",
    "            for t in [0, 1, 2, 3, 4]:\n",
    "                idxs = timesteps==t\n",
    "                data['Accuracy'].append(np.mean(accs[idxs]))\n",
    "                data['$\\Delta$ Accuracy'].append(np.mean(delta_accs[idxs]))\n",
    "                data['Timesteps'].append(t)\n",
    "                data['Noise Level'].append(int(noise_level))\n",
    "                data['BG'].append(bg)\n",
    "                data['ID'].append(results_file)\n",
    "    df = pd.DataFrame(data)\n",
    "\n",
    "    bg_avgs = {}\n",
    "    for bg in np.unique(df['BG']):\n",
    "        bg_avgs[bg] = {}\n",
    "        for noise_level in np.unique(df['Noise Level']):\n",
    "            ff_df = df[df['Timesteps']==0]\n",
    "            bg_avgs[bg][noise_level] = np.mean(\n",
    "                ff_df[(ff_df['BG'] == bg) & (ff_df['Noise Level'] ==noise_level)]['Accuracy']\n",
    "                )\n",
    "    data['Relative Accuracy'] = [] # (p - p_ff)/p_ff\n",
    "    for idx in range(len(data['Accuracy'])):\n",
    "        bg = data['BG'][idx]\n",
    "        noise_level = data['Noise Level'][idx]\n",
    "        delta_acc = data['$\\Delta$ Accuracy'][idx]\n",
    "        data['Relative Accuracy'].append(delta_acc/bg_avgs[bg][noise_level])\n",
    "    df = pd.DataFrame(data)\n",
    "    return df"
   ]
  },
  {
   "cell_type": "markdown",
   "metadata": {},
   "source": [
    "# Collect Data"
   ]
  },
  {
   "cell_type": "code",
   "execution_count": 67,
   "metadata": {},
   "outputs": [],
   "source": [
    "dfs = []\n",
    "for model in models:\n",
    "    dfs.append(get_data(model))"
   ]
  },
  {
   "cell_type": "code",
   "execution_count": 68,
   "metadata": {},
   "outputs": [
    {
     "data": {
      "image/png": "[encoded data removed]",
      "text/plain": [
       "<Figure size 460.8x276.48 with 1 Axes>"
      ]
     },
     "metadata": {
      "needs_background": "light"
     },
     "output_type": "display_data"
    }
   ],
   "source": [
    "barWidth = 0.2\n",
    "x1 = np.arange(5) - barWidth*1.75/2\n",
    "fig, ax = plt.subplots(figsize=(6.4, 4.8*0.8))\n",
    "colors = ['C0', 'C1', 'C2', 'C3', 'C4']\n",
    "bg = 'gaussian_noise'\n",
    "\n",
    "for noise_level in [1, 2, 3]:\n",
    "    t = 4\n",
    "    for model_idx, model in enumerate(models):\n",
    "        df = dfs[model_idx]\n",
    "        df = df[(df['Noise Level']==noise_level) & (df['BG']==bg)]\n",
    "        df = df[df['Timesteps']==t]\n",
    "        vals = df['$\\Delta$ Accuracy']\n",
    "        vals = np.array(vals)\n",
    "        avg = np.mean(vals)\n",
    "        err = sem(vals)\n",
    "        label = model if noise_level==1 else None\n",
    "        plt.bar(\n",
    "            x1[noise_level-1] + barWidth*model_idx, avg,\n",
    "            width=barWidth, color=colors[model_idx],\n",
    "            yerr=err, capsize=0, label=label)\n",
    "plt.ylabel('$\\Delta$ Accuracy')\n",
    "plt.xlabel('Noise Level')\n",
    "plt.axhline(0, color='lightgray')\n",
    "plt.legend(title='Model')\n",
    "plt.tight_layout()\n",
    "plt.savefig('gaussian_noise_acc.png', dpi=300)\n",
    "plt.show()"
   ]
  },
  {
   "cell_type": "code",
   "execution_count": 69,
   "metadata": {},
   "outputs": [
    {
     "data": {
      "image/png": "[encoded data removed]",
      "text/plain": [
       "<Figure size 460.8x276.48 with 1 Axes>"
      ]
     },
     "metadata": {
      "needs_background": "light"
     },
     "output_type": "display_data"
    }
   ],
   "source": [
    "barWidth = 0.2\n",
    "x1 = np.arange(5) - barWidth*1.75/2\n",
    "fig, ax = plt.subplots(figsize=(6.4, 4.8*0.8))\n",
    "colors = ['C0', 'C1', 'C2', 'C3', 'C4']\n",
    "bg = 'gaussian_noise'\n",
    "\n",
    "for noise_level in [1, 2, 3]:\n",
    "    t = 4\n",
    "    for model_idx, model in enumerate(models):\n",
    "        df = dfs[model_idx]\n",
    "        df = df[(df['Noise Level']==noise_level) & (df['BG']==bg)]\n",
    "        df = df[df['Timesteps']>0]\n",
    "        vals = df['Relative Accuracy']\n",
    "        vals = np.array(vals)\n",
    "        avg = np.mean(vals)\n",
    "        err = sem(vals)\n",
    "        label = model if noise_level==1 else None\n",
    "        plt.bar(\n",
    "            x1[noise_level-1] + barWidth*model_idx, avg,\n",
    "            width=barWidth, color=colors[model_idx],\n",
    "            yerr=err, capsize=0, label=label)\n",
    "plt.ylabel('Relative Accuracy')\n",
    "plt.xlabel('Noise Level')\n",
    "plt.axhline(0, color='lightgray')\n",
    "plt.legend(title='Model')\n",
    "plt.tight_layout()\n",
    "plt.savefig('gaussian_noise_acc.png', dpi=300)\n",
    "plt.show()"
   ]
  },
  {
   "cell_type": "code",
   "execution_count": 70,
   "metadata": {},
   "outputs": [
    {
     "name": "stderr",
     "output_type": "stream",
     "text": [
      "/home/cf2794/.conda/envs/hcnn/lib/python3.7/site-packages/numpy/core/fromnumeric.py:3441: RuntimeWarning: Mean of empty slice.\n",
      "  out=out, **kwargs)\n",
      "/home/cf2794/.conda/envs/hcnn/lib/python3.7/site-packages/numpy/core/_methods.py:189: RuntimeWarning: invalid value encountered in double_scalars\n",
      "  ret = ret.dtype.type(ret / rcount)\n",
      "/home/cf2794/.conda/envs/hcnn/lib/python3.7/site-packages/numpy/core/_methods.py:223: RuntimeWarning: invalid value encountered in true_divide\n",
      "  subok=False)\n"
     ]
    },
    {
     "data": {
      "image/png": "[encoded data removed]",
      "text/plain": [
       "<Figure size 460.8x276.48 with 1 Axes>"
      ]
     },
     "metadata": {
      "needs_background": "light"
     },
     "output_type": "display_data"
    }
   ],
   "source": [
    "barWidth = 0.2\n",
    "x1 = np.arange(5) - barWidth*1.75/2\n",
    "fig, ax = plt.subplots(figsize=(6.4, 4.8*0.8))\n",
    "colors = ['C0', 'C1', 'C2', 'C3', 'C4']\n",
    "bg = 'impulse_noise'\n",
    "\n",
    "for noise_level in [1, 2, 3]:\n",
    "    t = 4\n",
    "    for model_idx, model in enumerate(models):\n",
    "        df = dfs[model_idx]\n",
    "        df = df[(df['Noise Level']==noise_level) & (df['BG']==bg)]\n",
    "        df = df[df['Timesteps']==t]\n",
    "        vals = df['Relative Accuracy']\n",
    "        vals = np.array(vals)\n",
    "        avg = np.mean(vals)\n",
    "        err = sem(vals)\n",
    "        label = model if noise_level==1 else None\n",
    "        plt.bar(\n",
    "            x1[noise_level-1] + barWidth*model_idx, avg,\n",
    "            width=barWidth, color=colors[model_idx],\n",
    "            yerr=err, capsize=0, label=label)\n",
    "plt.ylabel('Relative Accuracy')\n",
    "plt.xlabel('Noise Level')\n",
    "plt.axhline(0, color='lightgray')\n",
    "plt.legend(title='Model')\n",
    "plt.tight_layout()\n",
    "plt.savefig('gaussian_noise_acc.png', dpi=300)\n",
    "plt.show()"
   ]
  },
  {
   "cell_type": "code",
   "execution_count": null,
   "metadata": {},
   "outputs": [],
   "source": []
  }
 ],
 "metadata": {
  "kernelspec": {
   "display_name": "Python [conda env:.conda-hcnn]",
   "language": "python",
   "name": "conda-env-.conda-hcnn-py"
  },
  "language_info": {
   "codemirror_mode": {
    "name": "ipython",
    "version": 3
   },
   "file_extension": ".py",
   "mimetype": "text/x-python",
   "name": "python",
   "nbconvert_exporter": "python",
   "pygments_lexer": "ipython3",
   "version": "3.7.13"
  }
 },
 "nbformat": 4,
 "nbformat_minor": 2
}
